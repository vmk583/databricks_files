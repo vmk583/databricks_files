{
 "cells": [
  {
   "cell_type": "markdown",
   "id": "970a0748",
   "metadata": {},
   "source": [
    "'d;lfv;ldsk'"
   ]
  },
  {
   "cell_type": "code",
   "execution_count": 12,
   "id": "78bee011",
   "metadata": {},
   "outputs": [
    {
     "data": {
      "text/plain": [
       "'dlkjfdl'"
      ]
     },
     "execution_count": 12,
     "metadata": {},
     "output_type": "execute_result"
    }
   ],
   "source": [
    "\"dlkjfdl\""
   ]
  },
  {
   "cell_type": "code",
   "execution_count": 13,
   "id": "57336ec1",
   "metadata": {},
   "outputs": [
    {
     "data": {
      "text/plain": [
       "'dsvdfvdvds'"
      ]
     },
     "execution_count": 13,
     "metadata": {},
     "output_type": "execute_result"
    }
   ],
   "source": [
    "'''dsvdfvdvds'''"
   ]
  },
  {
   "cell_type": "code",
   "execution_count": 15,
   "id": "d5179f17",
   "metadata": {},
   "outputs": [
    {
     "data": {
      "text/plain": [
       "'father\"s'"
      ]
     },
     "execution_count": 15,
     "metadata": {},
     "output_type": "execute_result"
    }
   ],
   "source": [
    "'father\"s'"
   ]
  },
  {
   "cell_type": "code",
   "execution_count": 16,
   "id": "18c00563",
   "metadata": {
    "collapsed": true
   },
   "outputs": [
    {
     "ename": "SyntaxError",
     "evalue": "invalid syntax (<ipython-input-16-6a0535e4942d>, line 1)",
     "output_type": "error",
     "traceback": [
      "\u001b[1;36m  File \u001b[1;32m\"<ipython-input-16-6a0535e4942d>\"\u001b[1;36m, line \u001b[1;32m1\u001b[0m\n\u001b[1;33m    \"father\"s\"\u001b[0m\n\u001b[1;37m            ^\u001b[0m\n\u001b[1;31mSyntaxError\u001b[0m\u001b[1;31m:\u001b[0m invalid syntax\n"
     ]
    }
   ],
   "source": [
    "\"father\"s\""
   ]
  },
  {
   "cell_type": "code",
   "execution_count": 18,
   "id": "c327eb3c",
   "metadata": {},
   "outputs": [
    {
     "data": {
      "text/plain": [
       "str"
      ]
     },
     "execution_count": 18,
     "metadata": {},
     "output_type": "execute_result"
    }
   ],
   "source": [
    "type(\"father's\")"
   ]
  },
  {
   "cell_type": "code",
   "execution_count": 19,
   "id": "d38e58bc",
   "metadata": {
    "collapsed": true
   },
   "outputs": [
    {
     "ename": "NameError",
     "evalue": "name 'dlsfkds' is not defined",
     "output_type": "error",
     "traceback": [
      "\u001b[1;31m---------------------------------------------------------------------------\u001b[0m",
      "\u001b[1;31mNameError\u001b[0m                                 Traceback (most recent call last)",
      "\u001b[1;32m<ipython-input-19-50035bbe19fc>\u001b[0m in \u001b[0;36m<module>\u001b[1;34m\u001b[0m\n\u001b[1;32m----> 1\u001b[1;33m \u001b[0mtype\u001b[0m\u001b[1;33m(\u001b[0m\u001b[0mdlsfkds\u001b[0m\u001b[1;33m)\u001b[0m\u001b[1;33m\u001b[0m\u001b[1;33m\u001b[0m\u001b[0m\n\u001b[0m",
      "\u001b[1;31mNameError\u001b[0m: name 'dlsfkds' is not defined"
     ]
    }
   ],
   "source": [
    "# data types in python\n",
    "\n",
    "# 1. String\n",
    "# 2. List\n",
    "# 3. Tuple\n",
    "# 4. Binary/boolean\n",
    "# 5. Dictionary\n",
    "# 6. sets\n",
    "# 7. array/matrix.... tuple+list >>>\n",
    "# 8. dataframe.....~"
   ]
  },
  {
   "cell_type": "code",
   "execution_count": 21,
   "id": "359d41c0",
   "metadata": {},
   "outputs": [
    {
     "data": {
      "text/plain": [
       "list"
      ]
     },
     "execution_count": 21,
     "metadata": {},
     "output_type": "execute_result"
    }
   ],
   "source": [
    "type([])"
   ]
  },
  {
   "cell_type": "code",
   "execution_count": null,
   "id": "3d315e07",
   "metadata": {},
   "outputs": [],
   "source": [
    "# list ..... collection of items saved in a closed brac"
   ]
  },
  {
   "cell_type": "code",
   "execution_count": null,
   "id": "0e2bbe9a",
   "metadata": {},
   "outputs": [],
   "source": [
    "[0,1]....close brackets#           list...2 int\n",
    "0 and 1 is included in this ...\n",
    "\n",
    "(0,1)....open brackets ..... tuple... 2 int\n",
    "\n",
    "0 and 1 is not included in this \n",
    "interval...."
   ]
  },
  {
   "cell_type": "code",
   "execution_count": 24,
   "id": "3b6352db",
   "metadata": {},
   "outputs": [],
   "source": [
    "# good things about list\n",
    "\n",
    "# store a dataset or a variable in python by assigning a name to it....\n",
    "\n",
    "Rajput = 'He is very brave.'"
   ]
  },
  {
   "cell_type": "code",
   "execution_count": 25,
   "id": "0ce386fb",
   "metadata": {},
   "outputs": [
    {
     "data": {
      "text/plain": [
       "'He is very brave.'"
      ]
     },
     "execution_count": 25,
     "metadata": {},
     "output_type": "execute_result"
    }
   ],
   "source": [
    "Rajput"
   ]
  },
  {
   "cell_type": "code",
   "execution_count": 26,
   "id": "36eb361d",
   "metadata": {},
   "outputs": [],
   "source": [
    "Nitin = ['U.P','Bijnor',0,'02/11/1998','Red','Delhi',77,5,600000,True]"
   ]
  },
  {
   "cell_type": "code",
   "execution_count": null,
   "id": "0da46293",
   "metadata": {},
   "outputs": [],
   "source": [
    "# cntrl + enter"
   ]
  },
  {
   "cell_type": "code",
   "execution_count": 27,
   "id": "79973528",
   "metadata": {},
   "outputs": [
    {
     "data": {
      "text/plain": [
       "['U.P', 'Bijnor', 0, '02/11/1998', 'Red', 'Delhi', 77, 5, 600000, True]"
      ]
     },
     "execution_count": 27,
     "metadata": {},
     "output_type": "execute_result"
    }
   ],
   "source": [
    "Nitin"
   ]
  },
  {
   "cell_type": "code",
   "execution_count": 35,
   "id": "0bf66490",
   "metadata": {
    "collapsed": true
   },
   "outputs": [
    {
     "data": {
      "text/plain": [
       "['U.P',\n",
       " 'Bijnor',\n",
       " 0,\n",
       " '02/11/1998',\n",
       " 'Red',\n",
       " 'Delhi',\n",
       " 77,\n",
       " 5,\n",
       " 600000,\n",
       " True,\n",
       " 'John Abrahim',\n",
       " 'John Abrahim',\n",
       " 'John Abrahim']"
      ]
     },
     "execution_count": 35,
     "metadata": {},
     "output_type": "execute_result"
    }
   ],
   "source": [
    "# list filter....\n",
    "# in the end of a list write . and then click tab\n",
    "Nitin.append('John Abrahim')\n",
    "Nitin"
   ]
  },
  {
   "cell_type": "code",
   "execution_count": 36,
   "id": "57c9e1e8",
   "metadata": {},
   "outputs": [
    {
     "data": {
      "text/plain": [
       "3"
      ]
     },
     "execution_count": 36,
     "metadata": {},
     "output_type": "execute_result"
    }
   ],
   "source": [
    "Nitin.count('John Abrahim')"
   ]
  },
  {
   "cell_type": "code",
   "execution_count": 37,
   "id": "f8db33ee",
   "metadata": {},
   "outputs": [
    {
     "data": {
      "text/plain": [
       "1"
      ]
     },
     "execution_count": 37,
     "metadata": {},
     "output_type": "execute_result"
    }
   ],
   "source": [
    "Nitin.count(0)"
   ]
  },
  {
   "cell_type": "code",
   "execution_count": 44,
   "id": "3df53877",
   "metadata": {},
   "outputs": [],
   "source": [
    "Damodar = [2,'Kurnool',10]"
   ]
  },
  {
   "cell_type": "code",
   "execution_count": 42,
   "id": "e906a531",
   "metadata": {},
   "outputs": [],
   "source": [
    "Nitin.extend(Damodar)"
   ]
  },
  {
   "cell_type": "code",
   "execution_count": 43,
   "id": "326488c0",
   "metadata": {
    "scrolled": true
   },
   "outputs": [
    {
     "data": {
      "text/plain": [
       "['U.P',\n",
       " 'Bijnor',\n",
       " 0,\n",
       " '02/11/1998',\n",
       " 'Red',\n",
       " 'Delhi',\n",
       " 77,\n",
       " 5,\n",
       " 600000,\n",
       " True,\n",
       " 'John Abrahim',\n",
       " 'John Abrahim',\n",
       " 'John Abrahim',\n",
       " 2,\n",
       " 'Kurnool',\n",
       " 10,\n",
       " 2,\n",
       " 'Kurnool',\n",
       " 10]"
      ]
     },
     "execution_count": 43,
     "metadata": {},
     "output_type": "execute_result"
    }
   ],
   "source": [
    "Nitin"
   ]
  },
  {
   "cell_type": "code",
   "execution_count": 46,
   "id": "1cfe8036",
   "metadata": {},
   "outputs": [
    {
     "data": {
      "text/plain": [
       "13"
      ]
     },
     "execution_count": 46,
     "metadata": {},
     "output_type": "execute_result"
    }
   ],
   "source": [
    "Nitin.index(2)"
   ]
  },
  {
   "cell_type": "code",
   "execution_count": 47,
   "id": "71e573c4",
   "metadata": {},
   "outputs": [
    {
     "data": {
      "text/plain": [
       "19"
      ]
     },
     "execution_count": 47,
     "metadata": {},
     "output_type": "execute_result"
    }
   ],
   "source": [
    "len(Nitin)"
   ]
  },
  {
   "cell_type": "code",
   "execution_count": 48,
   "id": "fb9a399d",
   "metadata": {},
   "outputs": [],
   "source": [
    "Nitin.insert(0,'Rajput')"
   ]
  },
  {
   "cell_type": "code",
   "execution_count": 69,
   "id": "a1ad0db6",
   "metadata": {},
   "outputs": [
    {
     "data": {
      "text/plain": [
       "10"
      ]
     },
     "execution_count": 69,
     "metadata": {},
     "output_type": "execute_result"
    }
   ],
   "source": [
    "Nitin.pop(-1)"
   ]
  },
  {
   "cell_type": "code",
   "execution_count": 63,
   "id": "939dc190",
   "metadata": {
    "collapsed": true
   },
   "outputs": [
    {
     "ename": "TypeError",
     "evalue": "'<' not supported between instances of 'int' and 'str'",
     "output_type": "error",
     "traceback": [
      "\u001b[1;31m---------------------------------------------------------------------------\u001b[0m",
      "\u001b[1;31mTypeError\u001b[0m                                 Traceback (most recent call last)",
      "\u001b[1;32m<ipython-input-63-655ff49605c8>\u001b[0m in \u001b[0;36m<module>\u001b[1;34m\u001b[0m\n\u001b[1;32m----> 1\u001b[1;33m \u001b[0mNitin\u001b[0m\u001b[1;33m.\u001b[0m\u001b[0msort\u001b[0m\u001b[1;33m(\u001b[0m\u001b[1;33m)\u001b[0m\u001b[1;33m\u001b[0m\u001b[1;33m\u001b[0m\u001b[0m\n\u001b[0m",
      "\u001b[1;31mTypeError\u001b[0m: '<' not supported between instances of 'int' and 'str'"
     ]
    }
   ],
   "source": [
    "### Nitin.sort()"
   ]
  },
  {
   "cell_type": "code",
   "execution_count": 70,
   "id": "1c5419ea",
   "metadata": {},
   "outputs": [
    {
     "data": {
      "text/plain": [
       "['Bijnor',\n",
       " 'Rajput',\n",
       " 'U.P',\n",
       " 0,\n",
       " '02/11/1998',\n",
       " 'Red',\n",
       " 'Delhi',\n",
       " 77,\n",
       " 5,\n",
       " 600000,\n",
       " True,\n",
       " 'John Abrahim',\n",
       " 2,\n",
       " 'Kurnool',\n",
       " 10,\n",
       " 2,\n",
       " 'Kurnool']"
      ]
     },
     "execution_count": 70,
     "metadata": {},
     "output_type": "execute_result"
    }
   ],
   "source": [
    "Nitin"
   ]
  },
  {
   "cell_type": "code",
   "execution_count": 67,
   "id": "4e190a98",
   "metadata": {},
   "outputs": [],
   "source": [
    "abc = [1,2,3,4,2,32,4,3,4,33,4]\n",
    "abc.sort(reverse = True)"
   ]
  },
  {
   "cell_type": "code",
   "execution_count": 68,
   "id": "f88effc4",
   "metadata": {},
   "outputs": [
    {
     "data": {
      "text/plain": [
       "[33, 32, 4, 4, 4, 4, 3, 3, 2, 2, 1]"
      ]
     },
     "execution_count": 68,
     "metadata": {},
     "output_type": "execute_result"
    }
   ],
   "source": [
    "abc"
   ]
  },
  {
   "cell_type": "code",
   "execution_count": null,
   "id": "dea3b868",
   "metadata": {},
   "outputs": [],
   "source": [
    "# dataframe..... "
   ]
  },
  {
   "cell_type": "code",
   "execution_count": 74,
   "id": "934636ad",
   "metadata": {},
   "outputs": [
    {
     "data": {
      "text/plain": [
       "['U.P', 0]"
      ]
     },
     "execution_count": 74,
     "metadata": {},
     "output_type": "execute_result"
    }
   ],
   "source": [
    "# filter....\n",
    "Nitin[6] # one argument filtering...\n",
    "\n",
    "#multiple...  3rd value ... 2:4\n",
    "\n",
    "# 3rd,4th,\n",
    "\n",
    "Nitin[2:4]\n",
    "0,1,2\n",
    "2:4 .... 2-4... 3,4\n",
    "  \n",
    "a:n\n",
    "    \n",
    "a+1,a+2,.....,n-1\n",
    "\n",
    "3-(n-1)"
   ]
  },
  {
   "cell_type": "code",
   "execution_count": 76,
   "id": "b3798a00",
   "metadata": {
    "collapsed": true
   },
   "outputs": [
    {
     "data": {
      "text/plain": [
       "['Bijnor',\n",
       " 'Rajput',\n",
       " 'U.P',\n",
       " 0,\n",
       " '02/11/1998',\n",
       " 'Red',\n",
       " 'Delhi',\n",
       " 77,\n",
       " 5,\n",
       " 600000,\n",
       " True,\n",
       " 'John Abrahim',\n",
       " 2,\n",
       " 'Kurnool',\n",
       " 10,\n",
       " 2,\n",
       " 'Kurnool']"
      ]
     },
     "execution_count": 76,
     "metadata": {},
     "output_type": "execute_result"
    }
   ],
   "source": [
    "Nitin"
   ]
  },
  {
   "cell_type": "code",
   "execution_count": null,
   "id": "613fc5ab",
   "metadata": {},
   "outputs": [],
   "source": []
  },
  {
   "cell_type": "code",
   "execution_count": 78,
   "id": "a86d2ae1",
   "metadata": {},
   "outputs": [
    {
     "data": {
      "text/plain": [
       "['Red', 'Delhi', 77, 5, 600000, True, 'John Abrahim', 2, 'Kurnool', 10, 2]"
      ]
     },
     "execution_count": 78,
     "metadata": {},
     "output_type": "execute_result"
    }
   ],
   "source": [
    "Nitin[5:-1]\n",
    "\n",
    "# 6,7,....n-1"
   ]
  },
  {
   "cell_type": "code",
   "execution_count": 82,
   "id": "29ffcfd2",
   "metadata": {},
   "outputs": [],
   "source": [
    "Nitin[0] = 'Bulandshahar'"
   ]
  },
  {
   "cell_type": "code",
   "execution_count": 83,
   "id": "179a28cb",
   "metadata": {
    "collapsed": true
   },
   "outputs": [
    {
     "data": {
      "text/plain": [
       "['Bulandshahar',\n",
       " 'Rajput',\n",
       " 'U.P',\n",
       " 0,\n",
       " '02/11/1998',\n",
       " 'Red',\n",
       " 'Delhi',\n",
       " 77,\n",
       " 5,\n",
       " 600000,\n",
       " True,\n",
       " 'John Abrahim',\n",
       " 2,\n",
       " 'Kurnool',\n",
       " 10,\n",
       " 2,\n",
       " 'Kurnool']"
      ]
     },
     "execution_count": 83,
     "metadata": {},
     "output_type": "execute_result"
    }
   ],
   "source": [
    "Nitin"
   ]
  },
  {
   "cell_type": "code",
   "execution_count": 87,
   "id": "44834dee",
   "metadata": {},
   "outputs": [],
   "source": [
    "Nitin[4] = '11/02/1998'"
   ]
  },
  {
   "cell_type": "code",
   "execution_count": 91,
   "id": "bba3ab55",
   "metadata": {
    "collapsed": true
   },
   "outputs": [
    {
     "ename": "TypeError",
     "evalue": "list indices must be integers or slices, not tuple",
     "output_type": "error",
     "traceback": [
      "\u001b[1;31m---------------------------------------------------------------------------\u001b[0m",
      "\u001b[1;31mTypeError\u001b[0m                                 Traceback (most recent call last)",
      "\u001b[1;32m<ipython-input-91-2edbc78c5d80>\u001b[0m in \u001b[0;36m<module>\u001b[1;34m\u001b[0m\n\u001b[1;32m----> 1\u001b[1;33m \u001b[0mNitin\u001b[0m\u001b[1;33m[\u001b[0m\u001b[1;33m(\u001b[0m\u001b[1;36m2\u001b[0m\u001b[1;33m,\u001b[0m\u001b[1;36m3\u001b[0m\u001b[1;33m)\u001b[0m\u001b[1;33m]\u001b[0m\u001b[1;33m\u001b[0m\u001b[1;33m\u001b[0m\u001b[0m\n\u001b[0m",
      "\u001b[1;31mTypeError\u001b[0m: list indices must be integers or slices, not tuple"
     ]
    }
   ],
   "source": [
    "# dataframe....."
   ]
  },
  {
   "cell_type": "code",
   "execution_count": 94,
   "id": "05a33af2",
   "metadata": {},
   "outputs": [],
   "source": [
    "# nested list....list inside a list...\n",
    "rahul = [11,2,3,4,5,6,[2,3,4,5,6,7,'TajMahal',['Mumtaz']]]\n",
    "# output\n",
    "# Tajmahal Mumtaz"
   ]
  },
  {
   "cell_type": "code",
   "execution_count": 101,
   "id": "d107be63",
   "metadata": {},
   "outputs": [
    {
     "data": {
      "text/plain": [
       "'TajMahal'"
      ]
     },
     "execution_count": 101,
     "metadata": {},
     "output_type": "execute_result"
    }
   ],
   "source": [
    "abc = rahul[-1]\n",
    "abc[6]"
   ]
  },
  {
   "cell_type": "code",
   "execution_count": 99,
   "id": "94c62e6b",
   "metadata": {},
   "outputs": [],
   "source": [
    "abc2 = abc[-1]"
   ]
  },
  {
   "cell_type": "code",
   "execution_count": 103,
   "id": "0899a5e2",
   "metadata": {},
   "outputs": [
    {
     "data": {
      "text/plain": [
       "'Mumtaz'"
      ]
     },
     "execution_count": 103,
     "metadata": {},
     "output_type": "execute_result"
    }
   ],
   "source": [
    "abc2[0]"
   ]
  },
  {
   "cell_type": "code",
   "execution_count": 108,
   "id": "b16fda78",
   "metadata": {},
   "outputs": [
    {
     "data": {
      "text/plain": [
       "'TajMahal Mumtaz'"
      ]
     },
     "execution_count": 108,
     "metadata": {},
     "output_type": "execute_result"
    }
   ],
   "source": [
    "abc[6] + ' ' + abc2[0]"
   ]
  },
  {
   "cell_type": "code",
   "execution_count": 109,
   "id": "57528b94",
   "metadata": {},
   "outputs": [
    {
     "data": {
      "text/plain": [
       "'TajMahal'"
      ]
     },
     "execution_count": 109,
     "metadata": {},
     "output_type": "execute_result"
    }
   ],
   "source": [
    "rahul[-1][6]"
   ]
  },
  {
   "cell_type": "code",
   "execution_count": 110,
   "id": "5078f39f",
   "metadata": {},
   "outputs": [
    {
     "data": {
      "text/plain": [
       "'Mumtaz'"
      ]
     },
     "execution_count": 110,
     "metadata": {},
     "output_type": "execute_result"
    }
   ],
   "source": [
    "rahul[-1][-1][0]"
   ]
  },
  {
   "cell_type": "code",
   "execution_count": 111,
   "id": "c5256353",
   "metadata": {},
   "outputs": [
    {
     "data": {
      "text/plain": [
       "'Mumtaz TajMahal'"
      ]
     },
     "execution_count": 111,
     "metadata": {},
     "output_type": "execute_result"
    }
   ],
   "source": [
    "rahul[-1][-1][0] + \" \" + rahul[-1][6]"
   ]
  },
  {
   "cell_type": "code",
   "execution_count": 106,
   "id": "d3415461",
   "metadata": {
    "scrolled": true
   },
   "outputs": [
    {
     "name": "stdout",
     "output_type": "stream",
     "text": [
      "[1, 2, 3, 4, '11/02/1998', 'Red', 'Delhi', 77, 5, 600000, True, 'John Abrahim', 2, 'Kurnool', 10, 2, 'Kurnool']\n"
     ]
    }
   ],
   "source": [
    "print(Nitin)\n",
    "\n",
    "# John Delhi Abrahim"
   ]
  },
  {
   "cell_type": "code",
   "execution_count": 112,
   "id": "29fb6811",
   "metadata": {},
   "outputs": [
    {
     "data": {
      "text/plain": [
       "'John Delhi  Abrahim'"
      ]
     },
     "execution_count": 112,
     "metadata": {},
     "output_type": "execute_result"
    }
   ],
   "source": [
    "Nitin[11][0:4] +' '+Nitin[6] +' '+Nitin[11][4:]"
   ]
  },
  {
   "cell_type": "code",
   "execution_count": 114,
   "id": "aa2509d3",
   "metadata": {
    "scrolled": true
   },
   "outputs": [
    {
     "data": {
      "text/plain": [
       "[1,\n",
       " 2,\n",
       " 3,\n",
       " 4,\n",
       " '11/02/1998',\n",
       " 'Red',\n",
       " 'Delhi',\n",
       " 77,\n",
       " 5,\n",
       " 600000,\n",
       " True,\n",
       " 'John Abrahim',\n",
       " 2,\n",
       " 'Kurnool',\n",
       " 10,\n",
       " 2,\n",
       " 'Kurnool',\n",
       " 11,\n",
       " 2,\n",
       " 3,\n",
       " 4,\n",
       " 5,\n",
       " 6,\n",
       " [2, 3, 4, 5, 6, 7, 'TajMahal', ['Mumtaz']]]"
      ]
     },
     "execution_count": 114,
     "metadata": {},
     "output_type": "execute_result"
    }
   ],
   "source": [
    "Nitin + rahul # concatenating....."
   ]
  },
  {
   "cell_type": "code",
   "execution_count": 116,
   "id": "e41fda00",
   "metadata": {},
   "outputs": [
    {
     "data": {
      "text/plain": [
       "[11,\n",
       " 2,\n",
       " 3,\n",
       " 4,\n",
       " 5,\n",
       " 6,\n",
       " [2, 3, 4, 5, 6, 7, 'TajMahal', ['Mumtaz']],\n",
       " 11,\n",
       " 2,\n",
       " 3,\n",
       " 4,\n",
       " 5,\n",
       " 6,\n",
       " [2, 3, 4, 5, 6, 7, 'TajMahal', ['Mumtaz']],\n",
       " 11,\n",
       " 2,\n",
       " 3,\n",
       " 4,\n",
       " 5,\n",
       " 6,\n",
       " [2, 3, 4, 5, 6, 7, 'TajMahal', ['Mumtaz']]]"
      ]
     },
     "execution_count": 116,
     "metadata": {},
     "output_type": "execute_result"
    }
   ],
   "source": [
    "# replication...\n",
    "rahul*3"
   ]
  },
  {
   "cell_type": "code",
   "execution_count": 117,
   "id": "6984a431",
   "metadata": {
    "collapsed": true
   },
   "outputs": [
    {
     "data": {
      "text/plain": [
       "[1,\n",
       " 2,\n",
       " 3,\n",
       " 4,\n",
       " '11/02/1998',\n",
       " 'Red',\n",
       " 'Delhi',\n",
       " 77,\n",
       " 5,\n",
       " 600000,\n",
       " True,\n",
       " 'John Abrahim',\n",
       " 2,\n",
       " 'Kurnool',\n",
       " 10,\n",
       " 2,\n",
       " 'Kurnool']"
      ]
     },
     "execution_count": 117,
     "metadata": {},
     "output_type": "execute_result"
    }
   ],
   "source": [
    "Nitin"
   ]
  },
  {
   "cell_type": "code",
   "execution_count": 85,
   "id": "18b6d3ed",
   "metadata": {},
   "outputs": [],
   "source": [
    "Nitin[0:4] = 1,2,3,4\n",
    "\n",
    "\n",
    "0,1,2,3"
   ]
  },
  {
   "cell_type": "code",
   "execution_count": 86,
   "id": "fa1ca2cb",
   "metadata": {
    "collapsed": true
   },
   "outputs": [
    {
     "data": {
      "text/plain": [
       "[1,\n",
       " 2,\n",
       " 3,\n",
       " 4,\n",
       " '02/11/1998',\n",
       " 'Red',\n",
       " 'Delhi',\n",
       " 77,\n",
       " 5,\n",
       " 600000,\n",
       " True,\n",
       " 'John Abrahim',\n",
       " 2,\n",
       " 'Kurnool',\n",
       " 10,\n",
       " 2,\n",
       " 'Kurnool']"
      ]
     },
     "execution_count": 86,
     "metadata": {},
     "output_type": "execute_result"
    }
   ],
   "source": [
    "Nitin"
   ]
  },
  {
   "cell_type": "code",
   "execution_count": 118,
   "id": "7894e1dc",
   "metadata": {},
   "outputs": [
    {
     "data": {
      "text/plain": [
       "1"
      ]
     },
     "execution_count": 118,
     "metadata": {},
     "output_type": "execute_result"
    }
   ],
   "source": [
    "2*True - True + 2*False"
   ]
  },
  {
   "cell_type": "code",
   "execution_count": 121,
   "id": "619776ea",
   "metadata": {},
   "outputs": [],
   "source": [
    "# boolean conditions\n",
    "dfg= [123456,54,32,345,4]"
   ]
  },
  {
   "cell_type": "code",
   "execution_count": 132,
   "id": "453fd80d",
   "metadata": {},
   "outputs": [
    {
     "name": "stdout",
     "output_type": "stream",
     "text": [
      "54\n",
      "32\n",
      "4\n"
     ]
    }
   ],
   "source": [
    "for i in dfg:\n",
    "    if i < 100:\n",
    "        print(i)   \n",
    "#....boolean indexing...."
   ]
  },
  {
   "cell_type": "code",
   "execution_count": 134,
   "id": "72eb816c",
   "metadata": {},
   "outputs": [
    {
     "data": {
      "text/plain": [
       "True"
      ]
     },
     "execution_count": 134,
     "metadata": {},
     "output_type": "execute_result"
    }
   ],
   "source": [
    "54 in dfg"
   ]
  },
  {
   "cell_type": "code",
   "execution_count": 138,
   "id": "2a2989c1",
   "metadata": {},
   "outputs": [],
   "source": [
    "aa = None"
   ]
  },
  {
   "cell_type": "code",
   "execution_count": 136,
   "id": "0e567beb",
   "metadata": {},
   "outputs": [
    {
     "data": {
      "text/plain": [
       "NoneType"
      ]
     },
     "execution_count": 136,
     "metadata": {},
     "output_type": "execute_result"
    }
   ],
   "source": [
    "type(aa)"
   ]
  },
  {
   "cell_type": "code",
   "execution_count": 139,
   "id": "6cac84cf",
   "metadata": {},
   "outputs": [],
   "source": [
    "# ASSIGNMENT OPERATORS\n",
    "\n",
    "A = 12"
   ]
  },
  {
   "cell_type": "code",
   "execution_count": 152,
   "id": "08727dde",
   "metadata": {},
   "outputs": [],
   "source": [
    "A -= 5"
   ]
  },
  {
   "cell_type": "code",
   "execution_count": 153,
   "id": "cde1133e",
   "metadata": {
    "scrolled": true
   },
   "outputs": [
    {
     "data": {
      "text/plain": [
       "17"
      ]
     },
     "execution_count": 153,
     "metadata": {},
     "output_type": "execute_result"
    }
   ],
   "source": [
    "A"
   ]
  },
  {
   "cell_type": "code",
   "execution_count": 157,
   "id": "32f88a57",
   "metadata": {},
   "outputs": [],
   "source": [
    "AA = 15\n",
    "BB = 5.2"
   ]
  },
  {
   "cell_type": "code",
   "execution_count": 158,
   "id": "c9724991",
   "metadata": {
    "collapsed": true
   },
   "outputs": [
    {
     "data": {
      "text/plain": [
       "2.88"
      ]
     },
     "execution_count": 158,
     "metadata": {},
     "output_type": "execute_result"
    }
   ],
   "source": [
    "round(AA/BB, ndigits = 2)"
   ]
  },
  {
   "cell_type": "code",
   "execution_count": null,
   "id": "783e2438",
   "metadata": {},
   "outputs": [],
   "source": []
  },
  {
   "cell_type": "code",
   "execution_count": null,
   "id": "fe39ef3d",
   "metadata": {},
   "outputs": [],
   "source": []
  },
  {
   "cell_type": "code",
   "execution_count": 128,
   "id": "e44c86b8",
   "metadata": {},
   "outputs": [
    {
     "data": {
      "text/plain": [
       "[123456, 54]"
      ]
     },
     "execution_count": 128,
     "metadata": {},
     "output_type": "execute_result"
    }
   ],
   "source": [
    "dfg[False:2*True] # True = 1 "
   ]
  },
  {
   "cell_type": "code",
   "execution_count": null,
   "id": "072b227f",
   "metadata": {},
   "outputs": [],
   "source": [
    "# boolean indexing...dataframe....\n",
    "#...."
   ]
  },
  {
   "cell_type": "code",
   "execution_count": null,
   "id": "a5878460",
   "metadata": {},
   "outputs": [],
   "source": []
  },
  {
   "cell_type": "code",
   "execution_count": null,
   "id": "1bca4c69",
   "metadata": {},
   "outputs": [],
   "source": []
  },
  {
   "cell_type": "code",
   "execution_count": null,
   "id": "66b54fff",
   "metadata": {},
   "outputs": [],
   "source": []
  },
  {
   "cell_type": "code",
   "execution_count": null,
   "id": "4ad161aa",
   "metadata": {},
   "outputs": [],
   "source": []
  },
  {
   "cell_type": "code",
   "execution_count": null,
   "id": "c1c07d57",
   "metadata": {},
   "outputs": [],
   "source": []
  },
  {
   "cell_type": "code",
   "execution_count": null,
   "id": "71074cff",
   "metadata": {},
   "outputs": [],
   "source": []
  },
  {
   "cell_type": "code",
   "execution_count": null,
   "id": "59924f6c",
   "metadata": {},
   "outputs": [],
   "source": []
  },
  {
   "cell_type": "code",
   "execution_count": null,
   "id": "dd9285fa",
   "metadata": {},
   "outputs": [],
   "source": []
  },
  {
   "cell_type": "code",
   "execution_count": null,
   "id": "c04d6783",
   "metadata": {},
   "outputs": [],
   "source": []
  }
 ],
 "metadata": {
  "kernelspec": {
   "display_name": "Python 3",
   "language": "python",
   "name": "python3"
  },
  "language_info": {
   "codemirror_mode": {
    "name": "ipython",
    "version": 3
   },
   "file_extension": ".py",
   "mimetype": "text/x-python",
   "name": "python",
   "nbconvert_exporter": "python",
   "pygments_lexer": "ipython3",
   "version": "3.8.8"
  }
 },
 "nbformat": 4,
 "nbformat_minor": 5
}
